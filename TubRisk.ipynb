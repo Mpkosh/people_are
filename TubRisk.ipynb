{
 "cells": [
  {
   "cell_type": "code",
   "execution_count": 14,
   "id": "f30f478f-a47e-4a12-8d1a-a96ec464f771",
   "metadata": {},
   "outputs": [],
   "source": [
    "from sklearn import linear_model\n",
    "from sklearn.model_selection import train_test_split\n",
    "import pandas as pd\n",
    "import numpy as np"
   ]
  },
  {
   "cell_type": "code",
   "execution_count": null,
   "id": "9da1d521-fb79-425f-84d8-9b5ceb1f8af6",
   "metadata": {},
   "outputs": [],
   "source": [
    "# "
   ]
  },
  {
   "cell_type": "code",
   "execution_count": 33,
   "id": "c251801c-ca92-4e38-b0a1-9d1b59e784bb",
   "metadata": {},
   "outputs": [],
   "source": [
    "class TubRiskModel:\n",
    "    \n",
    "    def __init__(self, df, params):\n",
    "        '''\n",
    "        Прогнозируем риск туберкулеза.\n",
    "        \n",
    "        Параметры:\n",
    "            - df: характеристики дома(тип вентиляции, год постройки, ...)\n",
    "                  год?\n",
    "                  кол-во жильцов дома\n",
    "                  кол-во болеющих\n",
    "                  y - прибавилось ли больных по сравнению с прошлым годом??\n",
    "            - params: гиперпараметры лог.регрессии\n",
    "        '''\n",
    "        self.df = df\n",
    "        self.prepro()\n",
    "        \n",
    "        self.log_r = linear_model.LogisticRegression(params)\n",
    "    \n",
    "    \n",
    "    def prepro(self):\n",
    "        '''\n",
    "        Предобрабатываем данные:\n",
    "            - ...\n",
    "            - обрабатываем категориальные переменные (OHE или ...)\n",
    "            - разбиваем по выборкам\n",
    "        '''\n",
    "        \n",
    "        self.x, self.y = self.df.iloc[:, :-1], self.df.iloc[:, -1]\n",
    "        self.x_train, self.x_test, self.y_train, self.y_test = \\\n",
    "                            train_test_split(self.x, self.y, test_size=0.3, \n",
    "                                             random_state=42, shuffle=False)\n",
    "        \n",
    "        \n",
    "    def fit(self):\n",
    "        self.log_r.fit(self.x_train, self.y_train)\n",
    "\n",
    "    \n",
    "    def predict(self, x):\n",
    "        y_predict = self.log_r.predict_proba(x) # ?\n",
    "        \n",
    "        return y_predict\n",
    "        "
   ]
  },
  {
   "cell_type": "code",
   "execution_count": 16,
   "id": "6dbb660c-96b3-4301-acd2-a894e915d926",
   "metadata": {},
   "outputs": [],
   "source": [
    "rng = np.random.default_rng()"
   ]
  },
  {
   "cell_type": "code",
   "execution_count": 66,
   "id": "acff90e3-32af-45c2-8704-14ba3b51b3f5",
   "metadata": {},
   "outputs": [
    {
     "data": {
      "text/html": [
       "<div>\n",
       "<style scoped>\n",
       "    .dataframe tbody tr th:only-of-type {\n",
       "        vertical-align: middle;\n",
       "    }\n",
       "\n",
       "    .dataframe tbody tr th {\n",
       "        vertical-align: top;\n",
       "    }\n",
       "\n",
       "    .dataframe thead th {\n",
       "        text-align: right;\n",
       "    }\n",
       "</style>\n",
       "<table border=\"1\" class=\"dataframe\">\n",
       "  <thead>\n",
       "    <tr style=\"text-align: right;\">\n",
       "      <th></th>\n",
       "      <th>year</th>\n",
       "      <th>n_h</th>\n",
       "      <th>n_t</th>\n",
       "      <th>vent_1</th>\n",
       "      <th>vent_2</th>\n",
       "      <th>b_type_1</th>\n",
       "      <th>b_type_2</th>\n",
       "      <th>b_type_3</th>\n",
       "      <th>b_type_4</th>\n",
       "      <th>y</th>\n",
       "    </tr>\n",
       "  </thead>\n",
       "  <tbody>\n",
       "    <tr>\n",
       "      <th>0</th>\n",
       "      <td>2021</td>\n",
       "      <td>188</td>\n",
       "      <td>17</td>\n",
       "      <td>True</td>\n",
       "      <td>False</td>\n",
       "      <td>False</td>\n",
       "      <td>False</td>\n",
       "      <td>True</td>\n",
       "      <td>False</td>\n",
       "      <td>0</td>\n",
       "    </tr>\n",
       "    <tr>\n",
       "      <th>1</th>\n",
       "      <td>2021</td>\n",
       "      <td>219</td>\n",
       "      <td>16</td>\n",
       "      <td>True</td>\n",
       "      <td>False</td>\n",
       "      <td>False</td>\n",
       "      <td>False</td>\n",
       "      <td>True</td>\n",
       "      <td>False</td>\n",
       "      <td>1</td>\n",
       "    </tr>\n",
       "    <tr>\n",
       "      <th>2</th>\n",
       "      <td>2021</td>\n",
       "      <td>494</td>\n",
       "      <td>14</td>\n",
       "      <td>True</td>\n",
       "      <td>False</td>\n",
       "      <td>False</td>\n",
       "      <td>False</td>\n",
       "      <td>False</td>\n",
       "      <td>True</td>\n",
       "      <td>1</td>\n",
       "    </tr>\n",
       "    <tr>\n",
       "      <th>3</th>\n",
       "      <td>2021</td>\n",
       "      <td>269</td>\n",
       "      <td>18</td>\n",
       "      <td>True</td>\n",
       "      <td>False</td>\n",
       "      <td>False</td>\n",
       "      <td>True</td>\n",
       "      <td>False</td>\n",
       "      <td>False</td>\n",
       "      <td>0</td>\n",
       "    </tr>\n",
       "    <tr>\n",
       "      <th>4</th>\n",
       "      <td>2020</td>\n",
       "      <td>76</td>\n",
       "      <td>19</td>\n",
       "      <td>True</td>\n",
       "      <td>False</td>\n",
       "      <td>False</td>\n",
       "      <td>False</td>\n",
       "      <td>False</td>\n",
       "      <td>True</td>\n",
       "      <td>0</td>\n",
       "    </tr>\n",
       "    <tr>\n",
       "      <th>...</th>\n",
       "      <td>...</td>\n",
       "      <td>...</td>\n",
       "      <td>...</td>\n",
       "      <td>...</td>\n",
       "      <td>...</td>\n",
       "      <td>...</td>\n",
       "      <td>...</td>\n",
       "      <td>...</td>\n",
       "      <td>...</td>\n",
       "      <td>...</td>\n",
       "    </tr>\n",
       "    <tr>\n",
       "      <th>995</th>\n",
       "      <td>2021</td>\n",
       "      <td>443</td>\n",
       "      <td>15</td>\n",
       "      <td>True</td>\n",
       "      <td>False</td>\n",
       "      <td>False</td>\n",
       "      <td>False</td>\n",
       "      <td>False</td>\n",
       "      <td>False</td>\n",
       "      <td>0</td>\n",
       "    </tr>\n",
       "    <tr>\n",
       "      <th>996</th>\n",
       "      <td>2020</td>\n",
       "      <td>292</td>\n",
       "      <td>15</td>\n",
       "      <td>True</td>\n",
       "      <td>False</td>\n",
       "      <td>False</td>\n",
       "      <td>False</td>\n",
       "      <td>False</td>\n",
       "      <td>False</td>\n",
       "      <td>1</td>\n",
       "    </tr>\n",
       "    <tr>\n",
       "      <th>997</th>\n",
       "      <td>2020</td>\n",
       "      <td>184</td>\n",
       "      <td>6</td>\n",
       "      <td>False</td>\n",
       "      <td>True</td>\n",
       "      <td>False</td>\n",
       "      <td>False</td>\n",
       "      <td>False</td>\n",
       "      <td>False</td>\n",
       "      <td>1</td>\n",
       "    </tr>\n",
       "    <tr>\n",
       "      <th>998</th>\n",
       "      <td>2021</td>\n",
       "      <td>384</td>\n",
       "      <td>3</td>\n",
       "      <td>False</td>\n",
       "      <td>False</td>\n",
       "      <td>False</td>\n",
       "      <td>False</td>\n",
       "      <td>False</td>\n",
       "      <td>False</td>\n",
       "      <td>0</td>\n",
       "    </tr>\n",
       "    <tr>\n",
       "      <th>999</th>\n",
       "      <td>2020</td>\n",
       "      <td>185</td>\n",
       "      <td>4</td>\n",
       "      <td>True</td>\n",
       "      <td>False</td>\n",
       "      <td>False</td>\n",
       "      <td>True</td>\n",
       "      <td>False</td>\n",
       "      <td>False</td>\n",
       "      <td>0</td>\n",
       "    </tr>\n",
       "  </tbody>\n",
       "</table>\n",
       "<p>1000 rows × 10 columns</p>\n",
       "</div>"
      ],
      "text/plain": [
       "     year  n_h  n_t  vent_1  vent_2  b_type_1  b_type_2  b_type_3  b_type_4  y\n",
       "0    2021  188   17    True   False     False     False      True     False  0\n",
       "1    2021  219   16    True   False     False     False      True     False  1\n",
       "2    2021  494   14    True   False     False     False     False      True  1\n",
       "3    2021  269   18    True   False     False      True     False     False  0\n",
       "4    2020   76   19    True   False     False     False     False      True  0\n",
       "..    ...  ...  ...     ...     ...       ...       ...       ...       ... ..\n",
       "995  2021  443   15    True   False     False     False     False     False  0\n",
       "996  2020  292   15    True   False     False     False     False     False  1\n",
       "997  2020  184    6   False    True     False     False     False     False  1\n",
       "998  2021  384    3   False   False     False     False     False     False  0\n",
       "999  2020  185    4    True   False     False      True     False     False  0\n",
       "\n",
       "[1000 rows x 10 columns]"
      ]
     },
     "execution_count": 66,
     "metadata": {},
     "output_type": "execute_result"
    }
   ],
   "source": [
    "n = 1000\n",
    "vent = rng.integers(low=0, high=3, size=n) \n",
    "b_type = rng.integers(low=0, high=5, size=n) \n",
    "year = rng.integers(low=2020, high=2022, size=n)\n",
    "n_h = rng.integers(low=50, high=500, size=n) \n",
    "n_t = rng.integers(low=0, high=20, size=n) \n",
    "y = rng.integers(low=0, high=2, size=n) \n",
    "\n",
    "df = pd.DataFrame([vent,b_type,year,n_h,n_t]).T\n",
    "df.columns = ['vent','b_type','year','n_h','n_t']\n",
    "\n",
    "df = pd.get_dummies(df, columns=['vent','b_type'], drop_first=True)\n",
    "df = pd.concat([df, pd.Series(y, name='y')], axis='columns')\n",
    "df"
   ]
  },
  {
   "cell_type": "code",
   "execution_count": 67,
   "id": "2c8d617d-629a-4245-b178-6b636fc3d8b4",
   "metadata": {},
   "outputs": [
    {
     "data": {
      "text/plain": [
       "y\n",
       "0    526\n",
       "1    474\n",
       "Name: count, dtype: int64"
      ]
     },
     "execution_count": 67,
     "metadata": {},
     "output_type": "execute_result"
    }
   ],
   "source": [
    "df.iloc[:,-1].value_counts()"
   ]
  },
  {
   "cell_type": "code",
   "execution_count": 68,
   "id": "5f5d23e8-a4af-4376-9020-6ec8efdb05e3",
   "metadata": {},
   "outputs": [],
   "source": [
    "model = TubRiskModel(df, 'none')\n",
    "model.fit()"
   ]
  },
  {
   "cell_type": "code",
   "execution_count": 69,
   "id": "c1e87f47-7060-4a88-8850-3eaa7aa364d2",
   "metadata": {},
   "outputs": [
    {
     "data": {
      "text/plain": [
       "(array([[-2.08187342e-04,  3.04005263e-04,  9.47484704e-03,\n",
       "          2.97635118e-01,  6.47697412e-02,  3.11407785e-02,\n",
       "         -1.79631820e-01,  7.97582325e-02, -2.21359897e-02]]),\n",
       " array([-0.00021072]))"
      ]
     },
     "execution_count": 69,
     "metadata": {},
     "output_type": "execute_result"
    }
   ],
   "source": [
    "model.log_r.coef_, model.log_r.intercept_"
   ]
  },
  {
   "cell_type": "code",
   "execution_count": 70,
   "id": "579dc553-4657-420d-a429-03b66c55d7cd",
   "metadata": {},
   "outputs": [
    {
     "data": {
      "text/plain": [
       "array([[0.52417442, 0.47582558],\n",
       "       [0.51845574, 0.48154426],\n",
       "       [0.51657167, 0.48342833],\n",
       "       [0.48071438, 0.51928562],\n",
       "       [0.5556297 , 0.4443703 ],\n",
       "       [0.53980086, 0.46019914],\n",
       "       [0.51301536, 0.48698464],\n",
       "       [0.47264085, 0.52735915],\n",
       "       [0.47229851, 0.52770149],\n",
       "       [0.53957079, 0.46042921]])"
      ]
     },
     "execution_count": 70,
     "metadata": {},
     "output_type": "execute_result"
    }
   ],
   "source": [
    "# 0, 1. Тогда здесь вторая колонка -- вероятность, что увеличатся заболевшие?\n",
    "model.predict(model.x_test)[:10]"
   ]
  },
  {
   "cell_type": "code",
   "execution_count": 71,
   "id": "7d0e2d31-665b-4a03-9692-47138532f262",
   "metadata": {},
   "outputs": [
    {
     "data": {
      "text/plain": [
       "0.5"
      ]
     },
     "execution_count": 71,
     "metadata": {},
     "output_type": "execute_result"
    }
   ],
   "source": [
    "# насколько совпадают\n",
    "model.log_r.score(model.x_test, model.y_test)"
   ]
  },
  {
   "cell_type": "code",
   "execution_count": 72,
   "id": "015c9f45-3866-4fdd-b188-a943120f183b",
   "metadata": {},
   "outputs": [
    {
     "data": {
      "text/plain": [
       "0.33628318584070793"
      ]
     },
     "execution_count": 72,
     "metadata": {},
     "output_type": "execute_result"
    }
   ],
   "source": [
    "from sklearn.metrics import f1_score\n",
    "\n",
    "f1_score(model.y_test,  model.log_r.predict(model.x_test))"
   ]
  },
  {
   "cell_type": "code",
   "execution_count": 75,
   "id": "abde3f0f-30aa-4505-98d3-037d8661b923",
   "metadata": {},
   "outputs": [
    {
     "ename": "AttributeError",
     "evalue": "type object 'RocCurveDisplay' has no attribute 'from_predictions'",
     "output_type": "error",
     "traceback": [
      "\u001b[1;31m---------------------------------------------------------------------------\u001b[0m",
      "\u001b[1;31mAttributeError\u001b[0m                            Traceback (most recent call last)",
      "Input \u001b[1;32mIn [75]\u001b[0m, in \u001b[0;36m<cell line: 2>\u001b[1;34m()\u001b[0m\n\u001b[0;32m      1\u001b[0m \u001b[38;5;28;01mfrom\u001b[39;00m \u001b[38;5;21;01msklearn\u001b[39;00m\u001b[38;5;21;01m.\u001b[39;00m\u001b[38;5;21;01mmetrics\u001b[39;00m \u001b[38;5;28;01mimport\u001b[39;00m RocCurveDisplay\n\u001b[1;32m----> 2\u001b[0m \u001b[43mRocCurveDisplay\u001b[49m\u001b[38;5;241;43m.\u001b[39;49m\u001b[43mfrom_predictions\u001b[49m(model\u001b[38;5;241m.\u001b[39my_test,  model\u001b[38;5;241m.\u001b[39mlog_r\u001b[38;5;241m.\u001b[39mpredict(model\u001b[38;5;241m.\u001b[39mx_test))\n",
      "\u001b[1;31mAttributeError\u001b[0m: type object 'RocCurveDisplay' has no attribute 'from_predictions'"
     ]
    }
   ],
   "source": [
    "from sklearn.metrics import RocCurveDisplay\n",
    "RocCurveDisplay.from_predictions(model.y_test,  model.log_r.predict(model.x_test))"
   ]
  },
  {
   "cell_type": "code",
   "execution_count": null,
   "id": "25fdb923-9617-4658-9c87-02b6e55ad63a",
   "metadata": {},
   "outputs": [],
   "source": []
  },
  {
   "cell_type": "code",
   "execution_count": null,
   "id": "cef76ebe-b90e-4cb8-b83d-12ada946331c",
   "metadata": {},
   "outputs": [],
   "source": []
  },
  {
   "cell_type": "code",
   "execution_count": 2,
   "id": "ccf7f4d6-aab4-48ea-85a6-7211eddcc36d",
   "metadata": {},
   "outputs": [],
   "source": [
    "log_r = linear_model.LogisticRegression()\n",
    "log_r.fit()\n",
    "log_r.predict_proba() #?"
   ]
  },
  {
   "cell_type": "code",
   "execution_count": 8,
   "id": "49dfe5fc-aec3-423b-9f31-3835ec4278f3",
   "metadata": {},
   "outputs": [
    {
     "data": {
      "text/plain": [
       "LogisticRegression(penalty=['l2'])"
      ]
     },
     "execution_count": 8,
     "metadata": {},
     "output_type": "execute_result"
    }
   ],
   "source": [
    "params = ['l2']\n",
    "log_r = linear_model.LogisticRegression(params)\n",
    "log_r"
   ]
  }
 ],
 "metadata": {
  "kernelspec": {
   "display_name": "Python 3 (ipykernel)",
   "language": "python",
   "name": "python3"
  },
  "language_info": {
   "codemirror_mode": {
    "name": "ipython",
    "version": 3
   },
   "file_extension": ".py",
   "mimetype": "text/x-python",
   "name": "python",
   "nbconvert_exporter": "python",
   "pygments_lexer": "ipython3",
   "version": "3.8.12"
  }
 },
 "nbformat": 4,
 "nbformat_minor": 5
}
